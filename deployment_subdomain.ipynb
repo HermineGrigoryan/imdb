{
 "cells": [
  {
   "cell_type": "code",
   "execution_count": 1,
   "metadata": {
    "executionInfo": {
     "elapsed": 574,
     "status": "ok",
     "timestamp": 1617632247295,
     "user": {
      "displayName": "Hermine Grigoryan",
      "photoUrl": "https://lh3.googleusercontent.com/a-/AOh14GiHrNIuSxXvBMQUCaA6r9GrHJ4JfIltR7YxambFI0jfC8wIqe8Thpt5x-PZQ2JG17Zb05zv_ASRj03BNyWwn9n5et59WtxKf2_7n0IplRvgbxJVQRg7cfL_2lITRop_KNk89JYNV4LwNueJ7dtJXb1ITO6Myx5KN7cfDiQV7UDPCRsxhH-6kb3hE8zRvAOZkq6aDxZy6V_Mu-yiGfrREIzYL5lDNhx95-RZRiS3wBxtGsRAIFqdTf2vVWYzIrc8AL6lQFU2cUDZXThljQ116kKJVv_yqC5IM0QGUMI3Z27hqAV1lHaF93B3sPpVsUArXV3itdwC2V1AZZi7u-xsKNYHLBPqjtm-oT61jQ0_XHo8dOl0VW12ydtfqEZZ3-ZAEGV_Z9OuugxatBcuG55wUAPGCTBttNRT9zYgciWY_wb3OSonQXv74vmwR26eSjJ-N3RoIsH0PFlNDIQuJqpFNZz865An7VfaNdZNPIifUys5LrH-h9_Pe07ND8CgpVUC9nDv9Gfk3SHIAxCydR1YnCiXa9fae86UEtyevpF075l9TvDkcIL_toobOwgQb4NohHyt05ot9PUZbrJjCSxY5no4WV8WqmnLG_9vTst8eq_1m4mzZyjcZxnBBIh1KoSbC90lI-3v8Ga2PILRrYhYXCqF4QW4BJu6hF8Ddsco-a4McxHsrXQAnecJgyNiM0EQtfQhYOorNTnc1unYKvbe4CUuHJiQNAE2DACmK3a9gJm635JAWgp3382RZl-hvBOGgTRoGQ=s64",
      "userId": "06483347771957142955"
     },
     "user_tz": -240
    },
    "id": "nT_qKARKPd8U"
   },
   "outputs": [],
   "source": [
    "from pyngrok import ngrok"
   ]
  },
  {
   "cell_type": "code",
   "execution_count": 3,
   "metadata": {},
   "outputs": [],
   "source": [
    "!ngrok http -region=us -hostname=movies-imdb.ngrok.io 8501"
   ]
  },
  {
   "cell_type": "code",
   "execution_count": null,
   "metadata": {},
   "outputs": [],
   "source": []
  }
 ],
 "metadata": {
  "colab": {
   "collapsed_sections": [],
   "name": "Running streamlit from colab.ipynb",
   "provenance": []
  },
  "interpreter": {
   "hash": "f08154012ddadd8e950e6e9e035c7a7b32c136e7647e9b7c77e02eb723a8bedb"
  },
  "kernelspec": {
   "display_name": "Python 3.8.8 ('base')",
   "language": "python",
   "name": "python3"
  },
  "language_info": {
   "codemirror_mode": {
    "name": "ipython",
    "version": 3
   },
   "file_extension": ".py",
   "mimetype": "text/x-python",
   "name": "python",
   "nbconvert_exporter": "python",
   "pygments_lexer": "ipython3",
   "version": "3.8.8"
  },
  "toc": {
   "base_numbering": 1,
   "nav_menu": {},
   "number_sections": true,
   "sideBar": true,
   "skip_h1_title": false,
   "title_cell": "Table of Contents",
   "title_sidebar": "Contents",
   "toc_cell": false,
   "toc_position": {},
   "toc_section_display": true,
   "toc_window_display": false
  }
 },
 "nbformat": 4,
 "nbformat_minor": 1
}
