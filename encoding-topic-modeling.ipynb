{
  "cells": [
    {
      "cell_type": "code",
      "execution_count": 6,
      "metadata": {
        "colab": {
          "base_uri": "https://localhost:8080/"
        },
        "id": "LYIBMBRgfaar",
        "outputId": "b37c6e2d-2691-4e59-8b4c-a509b39a60dd"
      },
      "outputs": [],
      "source": [
        "import pandas as pd\n",
        "import numpy as np\n",
        "\n",
        "import plotly.express as px"
      ]
    },
    {
      "cell_type": "code",
      "execution_count": 7,
      "metadata": {
        "id": "Poe1RgpRfaa0"
      },
      "outputs": [],
      "source": [
        "imdb_df = pd.read_csv('data/imdb_encoded.csv')"
      ]
    },
    {
      "cell_type": "code",
      "execution_count": 8,
      "metadata": {
        "colab": {
          "base_uri": "https://localhost:8080/"
        },
        "id": "MufR3TSafaa2",
        "outputId": "ae452926-fd30-4162-f23c-6bab05ab4b57"
      },
      "outputs": [
        {
          "data": {
            "text/plain": [
              "(183967, 43)"
            ]
          },
          "execution_count": 8,
          "metadata": {},
          "output_type": "execute_result"
        }
      ],
      "source": [
        "imdb_df.shape"
      ]
    },
    {
      "cell_type": "code",
      "execution_count": 9,
      "metadata": {
        "colab": {
          "base_uri": "https://localhost:8080/",
          "height": 687
        },
        "id": "fQIJgN-8faa6",
        "outputId": "b87abbc1-f3c0-4ec8-afba-41f6c4dcf745"
      },
      "outputs": [
        {
          "data": {
            "text/html": [
              "<div>\n",
              "<style scoped>\n",
              "    .dataframe tbody tr th:only-of-type {\n",
              "        vertical-align: middle;\n",
              "    }\n",
              "\n",
              "    .dataframe tbody tr th {\n",
              "        vertical-align: top;\n",
              "    }\n",
              "\n",
              "    .dataframe thead th {\n",
              "        text-align: right;\n",
              "    }\n",
              "</style>\n",
              "<table border=\"1\" class=\"dataframe\">\n",
              "  <thead>\n",
              "    <tr style=\"text-align: right;\">\n",
              "      <th></th>\n",
              "      <th>actor1</th>\n",
              "      <th>actor2</th>\n",
              "      <th>actor3</th>\n",
              "      <th>actor4</th>\n",
              "      <th>director</th>\n",
              "      <th>action</th>\n",
              "      <th>adult</th>\n",
              "      <th>adventure</th>\n",
              "      <th>animation</th>\n",
              "      <th>biography</th>\n",
              "      <th>...</th>\n",
              "      <th>western</th>\n",
              "      <th>duration</th>\n",
              "      <th>imdb_rating</th>\n",
              "      <th>votes</th>\n",
              "      <th>release_start</th>\n",
              "      <th>release_month</th>\n",
              "      <th>tv_series</th>\n",
              "      <th>title</th>\n",
              "      <th>synopsis</th>\n",
              "      <th>actors</th>\n",
              "    </tr>\n",
              "  </thead>\n",
              "  <tbody>\n",
              "    <tr>\n",
              "      <th>0</th>\n",
              "      <td>37241</td>\n",
              "      <td>68568</td>\n",
              "      <td>10147</td>\n",
              "      <td>59050</td>\n",
              "      <td>Joseph H. Lewis</td>\n",
              "      <td>0</td>\n",
              "      <td>0</td>\n",
              "      <td>0</td>\n",
              "      <td>0</td>\n",
              "      <td>0</td>\n",
              "      <td>...</td>\n",
              "      <td>0</td>\n",
              "      <td>87.0</td>\n",
              "      <td>7.6</td>\n",
              "      <td>13192.0</td>\n",
              "      <td>1950.0</td>\n",
              "      <td>1</td>\n",
              "      <td>0</td>\n",
              "      <td>Gun Crazy</td>\n",
              "      <td>Two disturbed young people release their fasci...</td>\n",
              "      <td>['John Dall', 'Peggy Cummins', 'Berry Kroeger'...</td>\n",
              "    </tr>\n",
              "    <tr>\n",
              "      <th>1</th>\n",
              "      <td>63173</td>\n",
              "      <td>22342</td>\n",
              "      <td>29027</td>\n",
              "      <td>25837</td>\n",
              "      <td>Gordon Douglas</td>\n",
              "      <td>0</td>\n",
              "      <td>0</td>\n",
              "      <td>0</td>\n",
              "      <td>0</td>\n",
              "      <td>0</td>\n",
              "      <td>...</td>\n",
              "      <td>1</td>\n",
              "      <td>81.0</td>\n",
              "      <td>6.3</td>\n",
              "      <td>919.0</td>\n",
              "      <td>1950.0</td>\n",
              "      <td>1</td>\n",
              "      <td>0</td>\n",
              "      <td>The Nevadan</td>\n",
              "      <td>A mysterious stranger crosses paths with an ou...</td>\n",
              "      <td>['Randolph Scott', 'Dorothy Malone', 'Forrest ...</td>\n",
              "    </tr>\n",
              "    <tr>\n",
              "      <th>2</th>\n",
              "      <td>25854</td>\n",
              "      <td>72711</td>\n",
              "      <td>46756</td>\n",
              "      <td>13293</td>\n",
              "      <td>Otto Preminger</td>\n",
              "      <td>0</td>\n",
              "      <td>0</td>\n",
              "      <td>0</td>\n",
              "      <td>0</td>\n",
              "      <td>0</td>\n",
              "      <td>...</td>\n",
              "      <td>0</td>\n",
              "      <td>98.0</td>\n",
              "      <td>6.7</td>\n",
              "      <td>4206.0</td>\n",
              "      <td>1950.0</td>\n",
              "      <td>1</td>\n",
              "      <td>0</td>\n",
              "      <td>Whirlpool</td>\n",
              "      <td>A woman suffering from kleptomania is hypnotiz...</td>\n",
              "      <td>['Gene Tierney', 'Richard Conte', 'José Ferrer...</td>\n",
              "    </tr>\n",
              "    <tr>\n",
              "      <th>3</th>\n",
              "      <td>65473</td>\n",
              "      <td>74085</td>\n",
              "      <td>15914</td>\n",
              "      <td>12858</td>\n",
              "      <td>George Templeton</td>\n",
              "      <td>0</td>\n",
              "      <td>0</td>\n",
              "      <td>0</td>\n",
              "      <td>0</td>\n",
              "      <td>0</td>\n",
              "      <td>...</td>\n",
              "      <td>1</td>\n",
              "      <td>83.0</td>\n",
              "      <td>5.6</td>\n",
              "      <td>480.0</td>\n",
              "      <td>1950.0</td>\n",
              "      <td>1</td>\n",
              "      <td>0</td>\n",
              "      <td>The Sundowners</td>\n",
              "      <td>Brother is pitted against brother in this tale...</td>\n",
              "      <td>['Robert Preston', 'Robert Sterling', 'Chill W...</td>\n",
              "    </tr>\n",
              "    <tr>\n",
              "      <th>4</th>\n",
              "      <td>32322</td>\n",
              "      <td>21601</td>\n",
              "      <td>43406</td>\n",
              "      <td>69447</td>\n",
              "      <td>Basil Dearden</td>\n",
              "      <td>0</td>\n",
              "      <td>0</td>\n",
              "      <td>0</td>\n",
              "      <td>0</td>\n",
              "      <td>0</td>\n",
              "      <td>...</td>\n",
              "      <td>0</td>\n",
              "      <td>84.0</td>\n",
              "      <td>6.8</td>\n",
              "      <td>2113.0</td>\n",
              "      <td>1950.0</td>\n",
              "      <td>1</td>\n",
              "      <td>0</td>\n",
              "      <td>The Blue Lamp</td>\n",
              "      <td>The daily routine of two London Policemen is i...</td>\n",
              "      <td>['Jack Warner', 'Dirk Bogarde', 'Jimmy Hanley'...</td>\n",
              "    </tr>\n",
              "  </tbody>\n",
              "</table>\n",
              "<p>5 rows × 43 columns</p>\n",
              "</div>"
            ],
            "text/plain": [
              "   actor1  actor2  actor3  actor4          director  action  adult  adventure  \\\n",
              "0   37241   68568   10147   59050   Joseph H. Lewis       0      0          0   \n",
              "1   63173   22342   29027   25837    Gordon Douglas       0      0          0   \n",
              "2   25854   72711   46756   13293    Otto Preminger       0      0          0   \n",
              "3   65473   74085   15914   12858  George Templeton       0      0          0   \n",
              "4   32322   21601   43406   69447     Basil Dearden       0      0          0   \n",
              "\n",
              "   animation  biography  ...  western  duration  imdb_rating    votes  \\\n",
              "0          0          0  ...        0      87.0          7.6  13192.0   \n",
              "1          0          0  ...        1      81.0          6.3    919.0   \n",
              "2          0          0  ...        0      98.0          6.7   4206.0   \n",
              "3          0          0  ...        1      83.0          5.6    480.0   \n",
              "4          0          0  ...        0      84.0          6.8   2113.0   \n",
              "\n",
              "   release_start  release_month  tv_series           title  \\\n",
              "0         1950.0              1          0       Gun Crazy   \n",
              "1         1950.0              1          0     The Nevadan   \n",
              "2         1950.0              1          0       Whirlpool   \n",
              "3         1950.0              1          0  The Sundowners   \n",
              "4         1950.0              1          0   The Blue Lamp   \n",
              "\n",
              "                                            synopsis  \\\n",
              "0  Two disturbed young people release their fasci...   \n",
              "1  A mysterious stranger crosses paths with an ou...   \n",
              "2  A woman suffering from kleptomania is hypnotiz...   \n",
              "3  Brother is pitted against brother in this tale...   \n",
              "4  The daily routine of two London Policemen is i...   \n",
              "\n",
              "                                              actors  \n",
              "0  ['John Dall', 'Peggy Cummins', 'Berry Kroeger'...  \n",
              "1  ['Randolph Scott', 'Dorothy Malone', 'Forrest ...  \n",
              "2  ['Gene Tierney', 'Richard Conte', 'José Ferrer...  \n",
              "3  ['Robert Preston', 'Robert Sterling', 'Chill W...  \n",
              "4  ['Jack Warner', 'Dirk Bogarde', 'Jimmy Hanley'...  \n",
              "\n",
              "[5 rows x 43 columns]"
            ]
          },
          "execution_count": 9,
          "metadata": {},
          "output_type": "execute_result"
        }
      ],
      "source": [
        "imdb_df.head()"
      ]
    },
    {
      "cell_type": "markdown",
      "metadata": {
        "id": "IGBIg6vBfaba"
      },
      "source": [
        "# Feature Engineering"
      ]
    },
    {
      "cell_type": "markdown",
      "metadata": {
        "id": "DgoOnVdcfabb"
      },
      "source": [
        "## Topic modeling"
      ]
    },
    {
      "cell_type": "code",
      "execution_count": 10,
      "metadata": {
        "colab": {
          "base_uri": "https://localhost:8080/"
        },
        "id": "iyOx70Lpp3zX",
        "outputId": "d20a415b-389d-492f-96b0-1671dfad1dd2"
      },
      "outputs": [],
      "source": [
        "# !pip install bertopic"
      ]
    },
    {
      "cell_type": "code",
      "execution_count": 11,
      "metadata": {
        "id": "5XVoWnXufabc"
      },
      "outputs": [],
      "source": [
        "import re\n",
        "import nltk\n",
        "from nltk.corpus import stopwords\n",
        "\n",
        "import gensim\n",
        "from gensim.utils import simple_preprocess\n",
        "\n",
        "from bertopic import BERTopic"
      ]
    },
    {
      "cell_type": "code",
      "execution_count": 12,
      "metadata": {
        "id": "8DCv2y8pfabd"
      },
      "outputs": [],
      "source": [
        "# deleting rows with no synopsis\n",
        "imdb_df = imdb_df[imdb_df['synopsis'] != 'Add a Plot'].dropna(subset=['synopsis']).reset_index(drop=True)"
      ]
    },
    {
      "cell_type": "code",
      "execution_count": 13,
      "metadata": {
        "colab": {
          "base_uri": "https://localhost:8080/"
        },
        "id": "adXygvxefabi",
        "outputId": "c2d8c008-5d7d-46b7-ad57-ab48c799feea"
      },
      "outputs": [
        {
          "data": {
            "text/plain": [
              "(161602, 43)"
            ]
          },
          "execution_count": 13,
          "metadata": {},
          "output_type": "execute_result"
        }
      ],
      "source": [
        "imdb_df.shape"
      ]
    },
    {
      "cell_type": "code",
      "execution_count": 14,
      "metadata": {
        "id": "aEd0JolAfabj"
      },
      "outputs": [],
      "source": [
        "\n",
        "# Removing punctuation\n",
        "imdb_df['synopsis'] = imdb_df['synopsis'].map(lambda x: re.sub('[!\"#$%&\\'()*+,-./:;<=>?@[\\\\]^_`{|}~]', '', x))\n",
        "# Converting the text to lowercase\n",
        "imdb_df['synopsis'] = imdb_df['synopsis'].map(lambda x: x.lower())\n",
        "# Removing 'see full summary'\n",
        "imdb_df['synopsis'] = imdb_df['synopsis'].map(lambda x: re.sub('see full summary\\xa0»', '', x))\n",
        "# Deleting unnecessary spaces\n",
        "imdb_df['synopsis'] = imdb_df['synopsis'].str.strip()"
      ]
    },
    {
      "cell_type": "code",
      "execution_count": 15,
      "metadata": {
        "colab": {
          "base_uri": "https://localhost:8080/"
        },
        "id": "GTmteKuxfabl",
        "outputId": "1c858d40-cd85-42fb-a2eb-00154a089ab8"
      },
      "outputs": [],
      "source": [
        "# Removing stopwords\n",
        "# nltk.download('stopwords')\n",
        "stop_words = stopwords.words('english')\n",
        "\n",
        "def sent_to_words(sentences):\n",
        "    for sentence in sentences:\n",
        "        yield(gensim.utils.simple_preprocess(str(sentence), deacc=True))\n",
        "\n",
        "def remove_stopwords(texts):\n",
        "    return [[word for word in simple_preprocess(str(doc)) \n",
        "             if word not in stop_words] for doc in texts]\n",
        "             \n",
        "data = imdb_df['synopsis'].values.tolist()\n",
        "data_words = list(sent_to_words(data))\n",
        "# remove stop words\n",
        "data_words = remove_stopwords(data_words)"
      ]
    },
    {
      "cell_type": "markdown",
      "metadata": {
        "id": "cMgAQIjbfabp"
      },
      "source": [
        "## BERT"
      ]
    },
    {
      "cell_type": "code",
      "execution_count": 16,
      "metadata": {
        "id": "ub8JLqGFfabq"
      },
      "outputs": [],
      "source": [
        "model = BERTopic(min_topic_size=30, n_gram_range=(1,3), verbose=True)"
      ]
    },
    {
      "cell_type": "code",
      "execution_count": 17,
      "metadata": {
        "id": "2yi9EQlNfabr"
      },
      "outputs": [],
      "source": [
        "docs = data_words\n",
        "docs = np.array([(\" \").join(i) for i in docs])\n",
        "# topics = model.fit(docs)"
      ]
    },
    {
      "cell_type": "code",
      "execution_count": 18,
      "metadata": {
        "colab": {
          "base_uri": "https://localhost:8080/",
          "height": 191,
          "referenced_widgets": [
            "2ed1a2ee12554705a61e5442b7b43e24",
            "c8d533ee51c04a1999b2984e4f9c96d1",
            "3afde84d6cc74389b9e49b6d5c0d883e",
            "12e04202ad214693991fe5ba59ce28eb",
            "2c30524524ae4c32aa63fbf9d3d0d7b7",
            "de051ec77fad498b8a9cca86747005d6",
            "282ba569d9be4d62971e08deb9811e95",
            "6179b285bf064e5f8502731a01adfeac",
            "05d5dc1e36514526a27737e7bef631c8",
            "f580c449ba494e33967804b7685f52a5",
            "54d0eff30bb74fd89a1ee78e9b44930a"
          ]
        },
        "id": "k_AKMWbNwuN6",
        "outputId": "0a0a4780-1194-45f5-9966-4d56b3613db9"
      },
      "outputs": [],
      "source": [
        "labels, probs = model.fit_transform(docs)"
      ]
    },
    {
      "cell_type": "code",
      "execution_count": null,
      "metadata": {
        "id": "r3kP5rUkAUsz"
      },
      "outputs": [],
      "source": [
        "imdb_df['topic'] = labels"
      ]
    },
    {
      "cell_type": "code",
      "execution_count": null,
      "metadata": {
        "id": "Xhxxuc0PAbVA"
      },
      "outputs": [],
      "source": [
        "# imdb_df.to_csv('/content//drive/MyDrive/Masters AUA/Spring 2022/Machine Learning/Project/imdb_df.csv')"
      ]
    },
    {
      "cell_type": "code",
      "execution_count": null,
      "metadata": {
        "id": "IdVFLuHLAkzS"
      },
      "outputs": [],
      "source": [
        "# imdb_df.to_csv('/content//drive/MyDrive/Masters AUA/Spring 2022/Machine Learning/Project/imdb_df.csv', index=False)"
      ]
    },
    {
      "cell_type": "code",
      "execution_count": null,
      "metadata": {
        "colab": {
          "base_uri": "https://localhost:8080/"
        },
        "id": "W9CEPBihDVPg",
        "outputId": "535cf15a-ee9b-4df6-9954-96a5205a86cb"
      },
      "outputs": [
        {
          "name": "stderr",
          "output_type": "stream",
          "text": [
            "/usr/local/lib/python3.7/dist-packages/scipy/sparse/_index.py:126: SparseEfficiencyWarning:\n",
            "\n",
            "Changing the sparsity structure of a csr_matrix is expensive. lil_matrix is more efficient.\n",
            "\n"
          ]
        }
      ],
      "source": [
        "# import pickle\n",
        "# filename = '/content//drive/MyDrive/Masters AUA/Spring 2022/Machine Learning/Project/topic_modeling_model.sav'\n",
        "# pickle.dump(model, open(filename, 'wb'))"
      ]
    },
    {
      "cell_type": "code",
      "execution_count": null,
      "metadata": {
        "colab": {
          "base_uri": "https://localhost:8080/",
          "height": 424
        },
        "id": "kauCb7lJD5Kn",
        "outputId": "2ca8ca61-346c-46da-9a46-ad50605d7f34"
      },
      "outputs": [
        {
          "data": {
            "text/html": [
              "\n",
              "  <div id=\"df-6b888cd0-ec3e-42b4-91bb-c64a3cf0994a\">\n",
              "    <div class=\"colab-df-container\">\n",
              "      <div>\n",
              "<style scoped>\n",
              "    .dataframe tbody tr th:only-of-type {\n",
              "        vertical-align: middle;\n",
              "    }\n",
              "\n",
              "    .dataframe tbody tr th {\n",
              "        vertical-align: top;\n",
              "    }\n",
              "\n",
              "    .dataframe thead th {\n",
              "        text-align: right;\n",
              "    }\n",
              "</style>\n",
              "<table border=\"1\" class=\"dataframe\">\n",
              "  <thead>\n",
              "    <tr style=\"text-align: right;\">\n",
              "      <th></th>\n",
              "      <th>Topic</th>\n",
              "      <th>Count</th>\n",
              "    </tr>\n",
              "  </thead>\n",
              "  <tbody>\n",
              "    <tr>\n",
              "      <th>0</th>\n",
              "      <td>-1</td>\n",
              "      <td>115959</td>\n",
              "    </tr>\n",
              "    <tr>\n",
              "      <th>1</th>\n",
              "      <td>0</td>\n",
              "      <td>1013</td>\n",
              "    </tr>\n",
              "    <tr>\n",
              "      <th>2</th>\n",
              "      <td>1</td>\n",
              "      <td>763</td>\n",
              "    </tr>\n",
              "    <tr>\n",
              "      <th>3</th>\n",
              "      <td>2</td>\n",
              "      <td>561</td>\n",
              "    </tr>\n",
              "    <tr>\n",
              "      <th>4</th>\n",
              "      <td>3</td>\n",
              "      <td>556</td>\n",
              "    </tr>\n",
              "    <tr>\n",
              "      <th>...</th>\n",
              "      <td>...</td>\n",
              "      <td>...</td>\n",
              "    </tr>\n",
              "    <tr>\n",
              "      <th>6673</th>\n",
              "      <td>7710</td>\n",
              "      <td>3</td>\n",
              "    </tr>\n",
              "    <tr>\n",
              "      <th>6672</th>\n",
              "      <td>7711</td>\n",
              "      <td>3</td>\n",
              "    </tr>\n",
              "    <tr>\n",
              "      <th>6671</th>\n",
              "      <td>7712</td>\n",
              "      <td>3</td>\n",
              "    </tr>\n",
              "    <tr>\n",
              "      <th>6670</th>\n",
              "      <td>7703</td>\n",
              "      <td>3</td>\n",
              "    </tr>\n",
              "    <tr>\n",
              "      <th>7714</th>\n",
              "      <td>7713</td>\n",
              "      <td>3</td>\n",
              "    </tr>\n",
              "  </tbody>\n",
              "</table>\n",
              "<p>7715 rows × 2 columns</p>\n",
              "</div>\n",
              "      <button class=\"colab-df-convert\" onclick=\"convertToInteractive('df-6b888cd0-ec3e-42b4-91bb-c64a3cf0994a')\"\n",
              "              title=\"Convert this dataframe to an interactive table.\"\n",
              "              style=\"display:none;\">\n",
              "        \n",
              "  <svg xmlns=\"http://www.w3.org/2000/svg\" height=\"24px\"viewBox=\"0 0 24 24\"\n",
              "       width=\"24px\">\n",
              "    <path d=\"M0 0h24v24H0V0z\" fill=\"none\"/>\n",
              "    <path d=\"M18.56 5.44l.94 2.06.94-2.06 2.06-.94-2.06-.94-.94-2.06-.94 2.06-2.06.94zm-11 1L8.5 8.5l.94-2.06 2.06-.94-2.06-.94L8.5 2.5l-.94 2.06-2.06.94zm10 10l.94 2.06.94-2.06 2.06-.94-2.06-.94-.94-2.06-.94 2.06-2.06.94z\"/><path d=\"M17.41 7.96l-1.37-1.37c-.4-.4-.92-.59-1.43-.59-.52 0-1.04.2-1.43.59L10.3 9.45l-7.72 7.72c-.78.78-.78 2.05 0 2.83L4 21.41c.39.39.9.59 1.41.59.51 0 1.02-.2 1.41-.59l7.78-7.78 2.81-2.81c.8-.78.8-2.07 0-2.86zM5.41 20L4 18.59l7.72-7.72 1.47 1.35L5.41 20z\"/>\n",
              "  </svg>\n",
              "      </button>\n",
              "      \n",
              "  <style>\n",
              "    .colab-df-container {\n",
              "      display:flex;\n",
              "      flex-wrap:wrap;\n",
              "      gap: 12px;\n",
              "    }\n",
              "\n",
              "    .colab-df-convert {\n",
              "      background-color: #E8F0FE;\n",
              "      border: none;\n",
              "      border-radius: 50%;\n",
              "      cursor: pointer;\n",
              "      display: none;\n",
              "      fill: #1967D2;\n",
              "      height: 32px;\n",
              "      padding: 0 0 0 0;\n",
              "      width: 32px;\n",
              "    }\n",
              "\n",
              "    .colab-df-convert:hover {\n",
              "      background-color: #E2EBFA;\n",
              "      box-shadow: 0px 1px 2px rgba(60, 64, 67, 0.3), 0px 1px 3px 1px rgba(60, 64, 67, 0.15);\n",
              "      fill: #174EA6;\n",
              "    }\n",
              "\n",
              "    [theme=dark] .colab-df-convert {\n",
              "      background-color: #3B4455;\n",
              "      fill: #D2E3FC;\n",
              "    }\n",
              "\n",
              "    [theme=dark] .colab-df-convert:hover {\n",
              "      background-color: #434B5C;\n",
              "      box-shadow: 0px 1px 3px 1px rgba(0, 0, 0, 0.15);\n",
              "      filter: drop-shadow(0px 1px 2px rgba(0, 0, 0, 0.3));\n",
              "      fill: #FFFFFF;\n",
              "    }\n",
              "  </style>\n",
              "\n",
              "      <script>\n",
              "        const buttonEl =\n",
              "          document.querySelector('#df-6b888cd0-ec3e-42b4-91bb-c64a3cf0994a button.colab-df-convert');\n",
              "        buttonEl.style.display =\n",
              "          google.colab.kernel.accessAllowed ? 'block' : 'none';\n",
              "\n",
              "        async function convertToInteractive(key) {\n",
              "          const element = document.querySelector('#df-6b888cd0-ec3e-42b4-91bb-c64a3cf0994a');\n",
              "          const dataTable =\n",
              "            await google.colab.kernel.invokeFunction('convertToInteractive',\n",
              "                                                     [key], {});\n",
              "          if (!dataTable) return;\n",
              "\n",
              "          const docLinkHtml = 'Like what you see? Visit the ' +\n",
              "            '<a target=\"_blank\" href=https://colab.research.google.com/notebooks/data_table.ipynb>data table notebook</a>'\n",
              "            + ' to learn more about interactive tables.';\n",
              "          element.innerHTML = '';\n",
              "          dataTable['output_type'] = 'display_data';\n",
              "          await google.colab.output.renderOutput(dataTable, element);\n",
              "          const docLink = document.createElement('div');\n",
              "          docLink.innerHTML = docLinkHtml;\n",
              "          element.appendChild(docLink);\n",
              "        }\n",
              "      </script>\n",
              "    </div>\n",
              "  </div>\n",
              "  "
            ],
            "text/plain": [
              "      Topic   Count\n",
              "0        -1  115959\n",
              "1         0    1013\n",
              "2         1     763\n",
              "3         2     561\n",
              "4         3     556\n",
              "...     ...     ...\n",
              "6673   7710       3\n",
              "6672   7711       3\n",
              "6671   7712       3\n",
              "6670   7703       3\n",
              "7714   7713       3\n",
              "\n",
              "[7715 rows x 2 columns]"
            ]
          },
          "execution_count": 36,
          "metadata": {},
          "output_type": "execute_result"
        }
      ],
      "source": [
        "model.get_topic_freq()"
      ]
    },
    {
      "cell_type": "code",
      "execution_count": null,
      "metadata": {
        "id": "vyT8uNitEYW4"
      },
      "outputs": [],
      "source": [
        "model.visualize_topics()"
      ]
    },
    {
      "cell_type": "code",
      "execution_count": 27,
      "metadata": {
        "id": "xUV8BE4dryYS"
      },
      "outputs": [],
      "source": [
        "# topics.visualize_topics()"
      ]
    },
    {
      "cell_type": "code",
      "execution_count": 28,
      "metadata": {
        "id": "po8dhsfpkOOq"
      },
      "outputs": [],
      "source": [
        "# topics.visualize_barchart(top_n_topics=12)"
      ]
    },
    {
      "cell_type": "code",
      "execution_count": 28,
      "metadata": {
        "id": "9T3AIkQIujKD"
      },
      "outputs": [],
      "source": []
    }
  ],
  "metadata": {
    "accelerator": "GPU",
    "colab": {
      "collapsed_sections": [],
      "name": "Copy of data_encoding_feature_engineering.ipynb",
      "provenance": []
    },
    "interpreter": {
      "hash": "b3b2656e5ad833d7a21a9dfac7857bdf93613789297678244a63dea6cec3286c"
    },
    "kernelspec": {
      "display_name": "Python 3 (ipykernel)",
      "language": "python",
      "name": "python3"
    },
    "language_info": {
      "codemirror_mode": {
        "name": "ipython",
        "version": 3
      },
      "file_extension": ".py",
      "mimetype": "text/x-python",
      "name": "python",
      "nbconvert_exporter": "python",
      "pygments_lexer": "ipython3",
      "version": "3.9.7"
    },
    "widgets": {
      "application/vnd.jupyter.widget-state+json": {
        "05d5dc1e36514526a27737e7bef631c8": {
          "model_module": "@jupyter-widgets/controls",
          "model_module_version": "1.5.0",
          "model_name": "ProgressStyleModel",
          "state": {
            "_model_module": "@jupyter-widgets/controls",
            "_model_module_version": "1.5.0",
            "_model_name": "ProgressStyleModel",
            "_view_count": null,
            "_view_module": "@jupyter-widgets/base",
            "_view_module_version": "1.2.0",
            "_view_name": "StyleView",
            "bar_color": null,
            "description_width": ""
          }
        },
        "12e04202ad214693991fe5ba59ce28eb": {
          "model_module": "@jupyter-widgets/controls",
          "model_module_version": "1.5.0",
          "model_name": "HTMLModel",
          "state": {
            "_dom_classes": [],
            "_model_module": "@jupyter-widgets/controls",
            "_model_module_version": "1.5.0",
            "_model_name": "HTMLModel",
            "_view_count": null,
            "_view_module": "@jupyter-widgets/controls",
            "_view_module_version": "1.5.0",
            "_view_name": "HTMLView",
            "description": "",
            "description_tooltip": null,
            "layout": "IPY_MODEL_f580c449ba494e33967804b7685f52a5",
            "placeholder": "​",
            "style": "IPY_MODEL_54d0eff30bb74fd89a1ee78e9b44930a",
            "value": " 6148/6148 [03:13&lt;00:00, 68.82it/s]"
          }
        },
        "282ba569d9be4d62971e08deb9811e95": {
          "model_module": "@jupyter-widgets/controls",
          "model_module_version": "1.5.0",
          "model_name": "DescriptionStyleModel",
          "state": {
            "_model_module": "@jupyter-widgets/controls",
            "_model_module_version": "1.5.0",
            "_model_name": "DescriptionStyleModel",
            "_view_count": null,
            "_view_module": "@jupyter-widgets/base",
            "_view_module_version": "1.2.0",
            "_view_name": "StyleView",
            "description_width": ""
          }
        },
        "2c30524524ae4c32aa63fbf9d3d0d7b7": {
          "model_module": "@jupyter-widgets/base",
          "model_module_version": "1.2.0",
          "model_name": "LayoutModel",
          "state": {
            "_model_module": "@jupyter-widgets/base",
            "_model_module_version": "1.2.0",
            "_model_name": "LayoutModel",
            "_view_count": null,
            "_view_module": "@jupyter-widgets/base",
            "_view_module_version": "1.2.0",
            "_view_name": "LayoutView",
            "align_content": null,
            "align_items": null,
            "align_self": null,
            "border": null,
            "bottom": null,
            "display": null,
            "flex": null,
            "flex_flow": null,
            "grid_area": null,
            "grid_auto_columns": null,
            "grid_auto_flow": null,
            "grid_auto_rows": null,
            "grid_column": null,
            "grid_gap": null,
            "grid_row": null,
            "grid_template_areas": null,
            "grid_template_columns": null,
            "grid_template_rows": null,
            "height": null,
            "justify_content": null,
            "justify_items": null,
            "left": null,
            "margin": null,
            "max_height": null,
            "max_width": null,
            "min_height": null,
            "min_width": null,
            "object_fit": null,
            "object_position": null,
            "order": null,
            "overflow": null,
            "overflow_x": null,
            "overflow_y": null,
            "padding": null,
            "right": null,
            "top": null,
            "visibility": null,
            "width": null
          }
        },
        "2ed1a2ee12554705a61e5442b7b43e24": {
          "model_module": "@jupyter-widgets/controls",
          "model_module_version": "1.5.0",
          "model_name": "HBoxModel",
          "state": {
            "_dom_classes": [],
            "_model_module": "@jupyter-widgets/controls",
            "_model_module_version": "1.5.0",
            "_model_name": "HBoxModel",
            "_view_count": null,
            "_view_module": "@jupyter-widgets/controls",
            "_view_module_version": "1.5.0",
            "_view_name": "HBoxView",
            "box_style": "",
            "children": [
              "IPY_MODEL_c8d533ee51c04a1999b2984e4f9c96d1",
              "IPY_MODEL_3afde84d6cc74389b9e49b6d5c0d883e",
              "IPY_MODEL_12e04202ad214693991fe5ba59ce28eb"
            ],
            "layout": "IPY_MODEL_2c30524524ae4c32aa63fbf9d3d0d7b7"
          }
        },
        "3afde84d6cc74389b9e49b6d5c0d883e": {
          "model_module": "@jupyter-widgets/controls",
          "model_module_version": "1.5.0",
          "model_name": "FloatProgressModel",
          "state": {
            "_dom_classes": [],
            "_model_module": "@jupyter-widgets/controls",
            "_model_module_version": "1.5.0",
            "_model_name": "FloatProgressModel",
            "_view_count": null,
            "_view_module": "@jupyter-widgets/controls",
            "_view_module_version": "1.5.0",
            "_view_name": "ProgressView",
            "bar_style": "success",
            "description": "",
            "description_tooltip": null,
            "layout": "IPY_MODEL_6179b285bf064e5f8502731a01adfeac",
            "max": 6148,
            "min": 0,
            "orientation": "horizontal",
            "style": "IPY_MODEL_05d5dc1e36514526a27737e7bef631c8",
            "value": 6148
          }
        },
        "54d0eff30bb74fd89a1ee78e9b44930a": {
          "model_module": "@jupyter-widgets/controls",
          "model_module_version": "1.5.0",
          "model_name": "DescriptionStyleModel",
          "state": {
            "_model_module": "@jupyter-widgets/controls",
            "_model_module_version": "1.5.0",
            "_model_name": "DescriptionStyleModel",
            "_view_count": null,
            "_view_module": "@jupyter-widgets/base",
            "_view_module_version": "1.2.0",
            "_view_name": "StyleView",
            "description_width": ""
          }
        },
        "6179b285bf064e5f8502731a01adfeac": {
          "model_module": "@jupyter-widgets/base",
          "model_module_version": "1.2.0",
          "model_name": "LayoutModel",
          "state": {
            "_model_module": "@jupyter-widgets/base",
            "_model_module_version": "1.2.0",
            "_model_name": "LayoutModel",
            "_view_count": null,
            "_view_module": "@jupyter-widgets/base",
            "_view_module_version": "1.2.0",
            "_view_name": "LayoutView",
            "align_content": null,
            "align_items": null,
            "align_self": null,
            "border": null,
            "bottom": null,
            "display": null,
            "flex": null,
            "flex_flow": null,
            "grid_area": null,
            "grid_auto_columns": null,
            "grid_auto_flow": null,
            "grid_auto_rows": null,
            "grid_column": null,
            "grid_gap": null,
            "grid_row": null,
            "grid_template_areas": null,
            "grid_template_columns": null,
            "grid_template_rows": null,
            "height": null,
            "justify_content": null,
            "justify_items": null,
            "left": null,
            "margin": null,
            "max_height": null,
            "max_width": null,
            "min_height": null,
            "min_width": null,
            "object_fit": null,
            "object_position": null,
            "order": null,
            "overflow": null,
            "overflow_x": null,
            "overflow_y": null,
            "padding": null,
            "right": null,
            "top": null,
            "visibility": null,
            "width": null
          }
        },
        "c8d533ee51c04a1999b2984e4f9c96d1": {
          "model_module": "@jupyter-widgets/controls",
          "model_module_version": "1.5.0",
          "model_name": "HTMLModel",
          "state": {
            "_dom_classes": [],
            "_model_module": "@jupyter-widgets/controls",
            "_model_module_version": "1.5.0",
            "_model_name": "HTMLModel",
            "_view_count": null,
            "_view_module": "@jupyter-widgets/controls",
            "_view_module_version": "1.5.0",
            "_view_name": "HTMLView",
            "description": "",
            "description_tooltip": null,
            "layout": "IPY_MODEL_de051ec77fad498b8a9cca86747005d6",
            "placeholder": "​",
            "style": "IPY_MODEL_282ba569d9be4d62971e08deb9811e95",
            "value": "Batches: 100%"
          }
        },
        "de051ec77fad498b8a9cca86747005d6": {
          "model_module": "@jupyter-widgets/base",
          "model_module_version": "1.2.0",
          "model_name": "LayoutModel",
          "state": {
            "_model_module": "@jupyter-widgets/base",
            "_model_module_version": "1.2.0",
            "_model_name": "LayoutModel",
            "_view_count": null,
            "_view_module": "@jupyter-widgets/base",
            "_view_module_version": "1.2.0",
            "_view_name": "LayoutView",
            "align_content": null,
            "align_items": null,
            "align_self": null,
            "border": null,
            "bottom": null,
            "display": null,
            "flex": null,
            "flex_flow": null,
            "grid_area": null,
            "grid_auto_columns": null,
            "grid_auto_flow": null,
            "grid_auto_rows": null,
            "grid_column": null,
            "grid_gap": null,
            "grid_row": null,
            "grid_template_areas": null,
            "grid_template_columns": null,
            "grid_template_rows": null,
            "height": null,
            "justify_content": null,
            "justify_items": null,
            "left": null,
            "margin": null,
            "max_height": null,
            "max_width": null,
            "min_height": null,
            "min_width": null,
            "object_fit": null,
            "object_position": null,
            "order": null,
            "overflow": null,
            "overflow_x": null,
            "overflow_y": null,
            "padding": null,
            "right": null,
            "top": null,
            "visibility": null,
            "width": null
          }
        },
        "f580c449ba494e33967804b7685f52a5": {
          "model_module": "@jupyter-widgets/base",
          "model_module_version": "1.2.0",
          "model_name": "LayoutModel",
          "state": {
            "_model_module": "@jupyter-widgets/base",
            "_model_module_version": "1.2.0",
            "_model_name": "LayoutModel",
            "_view_count": null,
            "_view_module": "@jupyter-widgets/base",
            "_view_module_version": "1.2.0",
            "_view_name": "LayoutView",
            "align_content": null,
            "align_items": null,
            "align_self": null,
            "border": null,
            "bottom": null,
            "display": null,
            "flex": null,
            "flex_flow": null,
            "grid_area": null,
            "grid_auto_columns": null,
            "grid_auto_flow": null,
            "grid_auto_rows": null,
            "grid_column": null,
            "grid_gap": null,
            "grid_row": null,
            "grid_template_areas": null,
            "grid_template_columns": null,
            "grid_template_rows": null,
            "height": null,
            "justify_content": null,
            "justify_items": null,
            "left": null,
            "margin": null,
            "max_height": null,
            "max_width": null,
            "min_height": null,
            "min_width": null,
            "object_fit": null,
            "object_position": null,
            "order": null,
            "overflow": null,
            "overflow_x": null,
            "overflow_y": null,
            "padding": null,
            "right": null,
            "top": null,
            "visibility": null,
            "width": null
          }
        }
      }
    }
  },
  "nbformat": 4,
  "nbformat_minor": 0
}
