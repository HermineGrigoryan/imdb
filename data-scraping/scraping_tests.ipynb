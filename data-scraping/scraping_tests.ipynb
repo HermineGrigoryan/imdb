{
 "cells": [
  {
   "cell_type": "code",
   "execution_count": 1,
   "metadata": {},
   "outputs": [],
   "source": [
    "import os\n",
    "\n",
    "os.chdir(r'C:\\Users\\User\\Desktop\\my\\imdb\\data-scraping')\n",
    "\n",
    "import functions\n",
    "import pandas as pd"
   ]
  },
  {
   "cell_type": "code",
   "execution_count": 2,
   "metadata": {},
   "outputs": [],
   "source": [
    "import requests\n",
    "from bs4 import BeautifulSoup"
   ]
  },
  {
   "cell_type": "code",
   "execution_count": 3,
   "metadata": {},
   "outputs": [],
   "source": [
    "url = f'https://www.imdb.com/search/title/?release_date=2020-01-01,2020-02-02'\n",
    "page = requests.get(url)\n",
    "soup = BeautifulSoup(page.content)"
   ]
  },
  {
   "cell_type": "code",
   "execution_count": 7,
   "metadata": {},
   "outputs": [
    {
     "data": {
      "text/plain": [
       "{'title': 'Underwater',\n",
       " 'link': 'https://www.imdb.com/title/tt5774060/',\n",
       " 'release_date': 2020,\n",
       " 'duration': 95,\n",
       " 'certificate': nan,\n",
       " 'genre': 'Action, Horror, Sci-Fi',\n",
       " 'imdb_rating': 5.8,\n",
       " 'metascore': 48,\n",
       " 'synopsis': 'A crew of oceanic researchers working for a deep sea drilling company try to get to safety after a mysterious earthquake devastates their deepwater research and drilling facility located at the bottom of the Mariana Trench.',\n",
       " 'director': 'William Eubank',\n",
       " 'actors': ['Kristen Stewart',\n",
       "  'Vincent Cassel',\n",
       "  'Mamoudou Athie',\n",
       "  'T.J. Miller'],\n",
       " 'votes': 78632}"
      ]
     },
     "execution_count": 7,
     "metadata": {},
     "output_type": "execute_result"
    }
   ],
   "source": [
    "one_page = soup.find_all('div', class_='lister-item-content')\n",
    "functions.scrape_info_from_one_film(one_page[20])"
   ]
  },
  {
   "cell_type": "code",
   "execution_count": 5,
   "metadata": {},
   "outputs": [],
   "source": [
    "# functions.scrape_info_from_one_page(one_page)"
   ]
  },
  {
   "cell_type": "code",
   "execution_count": 3,
   "metadata": {},
   "outputs": [],
   "source": [
    "release_start = '1970-01-01'\n",
    "release_end = '1980-01-01'\n",
    "release_dates = pd.date_range(start=release_start, end=release_end, freq='M')\n",
    "release_dates = release_dates.strftime('%Y-%m-%d').tolist()"
   ]
  },
  {
   "cell_type": "code",
   "execution_count": 4,
   "metadata": {},
   "outputs": [
    {
     "name": "stderr",
     "output_type": "stream",
     "text": [
      "100%|██████████| 1/1 [00:01<00:00,  1.86s/it]\n"
     ]
    }
   ],
   "source": [
    "n_films_to_scrape = functions.scrape_n_films_for_each_date(release_dates[0:2])"
   ]
  },
  {
   "cell_type": "code",
   "execution_count": 5,
   "metadata": {},
   "outputs": [
    {
     "name": "stderr",
     "output_type": "stream",
     "text": [
      "100%|██████████| 5/5 [00:15<00:00,  3.14s/it]\n"
     ]
    }
   ],
   "source": [
    "films = functions.scrape_info_from_all_pages(n_films_to_scrape)"
   ]
  },
  {
   "cell_type": "code",
   "execution_count": 6,
   "metadata": {},
   "outputs": [
    {
     "data": {
      "text/plain": [
       "'https://www.imdb.com/search/title/?release_date=1970-01-31,1970-02-28&start=1'"
      ]
     },
     "execution_count": 6,
     "metadata": {},
     "output_type": "execute_result"
    }
   ],
   "source": [
    "films.page_url[0]"
   ]
  },
  {
   "cell_type": "code",
   "execution_count": 7,
   "metadata": {},
   "outputs": [
    {
     "data": {
      "text/html": [
       "<div>\n",
       "<style scoped>\n",
       "    .dataframe tbody tr th:only-of-type {\n",
       "        vertical-align: middle;\n",
       "    }\n",
       "\n",
       "    .dataframe tbody tr th {\n",
       "        vertical-align: top;\n",
       "    }\n",
       "\n",
       "    .dataframe thead th {\n",
       "        text-align: right;\n",
       "    }\n",
       "</style>\n",
       "<table border=\"1\" class=\"dataframe\">\n",
       "  <thead>\n",
       "    <tr style=\"text-align: right;\">\n",
       "      <th></th>\n",
       "      <th>actors</th>\n",
       "      <th>certificate</th>\n",
       "      <th>director</th>\n",
       "      <th>duration</th>\n",
       "      <th>genre</th>\n",
       "      <th>imdb_rating</th>\n",
       "      <th>link</th>\n",
       "      <th>metascore</th>\n",
       "      <th>release_date</th>\n",
       "      <th>synopsis</th>\n",
       "      <th>title</th>\n",
       "      <th>votes</th>\n",
       "      <th>page_url</th>\n",
       "    </tr>\n",
       "  </thead>\n",
       "  <tbody>\n",
       "    <tr>\n",
       "      <th>0</th>\n",
       "      <td>[George C. Scott, Karl Malden, Stephen Young, ...</td>\n",
       "      <td>NaN</td>\n",
       "      <td>Franklin J. Schaffner</td>\n",
       "      <td>172.0</td>\n",
       "      <td>Biography, Drama, War</td>\n",
       "      <td>7.9</td>\n",
       "      <td>https://www.imdb.com/title/tt0066206/</td>\n",
       "      <td>91.0</td>\n",
       "      <td>1970.0</td>\n",
       "      <td>The World War II phase of the career of contro...</td>\n",
       "      <td>Patton</td>\n",
       "      <td>100902.0</td>\n",
       "      <td>https://www.imdb.com/search/title/?release_dat...</td>\n",
       "    </tr>\n",
       "    <tr>\n",
       "      <th>1</th>\n",
       "      <td>[J.D. Cannon, Terry Carter, Ken Lynch]</td>\n",
       "      <td>NaN</td>\n",
       "      <td>Dennis Weaver</td>\n",
       "      <td>120.0</td>\n",
       "      <td>Action, Crime, Drama</td>\n",
       "      <td>6.9</td>\n",
       "      <td>https://www.imdb.com/title/tt0065317/</td>\n",
       "      <td>NaN</td>\n",
       "      <td>19701977.0</td>\n",
       "      <td>A New Mexico deputy marshal gets assigned to M...</td>\n",
       "      <td>McCloud</td>\n",
       "      <td>3274.0</td>\n",
       "      <td>https://www.imdb.com/search/title/?release_dat...</td>\n",
       "    </tr>\n",
       "    <tr>\n",
       "      <th>2</th>\n",
       "      <td>[Tony Musante, Suzy Kendall, Enrico Maria Sale...</td>\n",
       "      <td>NaN</td>\n",
       "      <td>Dario Argento</td>\n",
       "      <td>96.0</td>\n",
       "      <td>Horror, Mystery, Thriller</td>\n",
       "      <td>7.1</td>\n",
       "      <td>https://www.imdb.com/title/tt0065143/</td>\n",
       "      <td>NaN</td>\n",
       "      <td>1970.0</td>\n",
       "      <td>An American expatriate in Rome witnesses an at...</td>\n",
       "      <td>L'uccello dalle piume di cristallo</td>\n",
       "      <td>20664.0</td>\n",
       "      <td>https://www.imdb.com/search/title/?release_dat...</td>\n",
       "    </tr>\n",
       "    <tr>\n",
       "      <th>3</th>\n",
       "      <td>[Maria Rohm, Marie Liljedahl, Jack Taylor, Chr...</td>\n",
       "      <td>NaN</td>\n",
       "      <td>Jesús Franco</td>\n",
       "      <td>87.0</td>\n",
       "      <td>Drama, Horror</td>\n",
       "      <td>5.3</td>\n",
       "      <td>https://www.imdb.com/title/tt0064494/</td>\n",
       "      <td>NaN</td>\n",
       "      <td>1970.0</td>\n",
       "      <td>An innocent girl goes to spend the weekend on ...</td>\n",
       "      <td>De Sade 70</td>\n",
       "      <td>1637.0</td>\n",
       "      <td>https://www.imdb.com/search/title/?release_dat...</td>\n",
       "    </tr>\n",
       "    <tr>\n",
       "      <th>4</th>\n",
       "      <td>[Arnold Stang, Arnold Schwarzenegger, Deborah ...</td>\n",
       "      <td>NaN</td>\n",
       "      <td>Arthur Allan Seidelman</td>\n",
       "      <td>92.0</td>\n",
       "      <td>Adventure, Comedy, Fantasy</td>\n",
       "      <td>3.3</td>\n",
       "      <td>https://www.imdb.com/title/tt0065832/</td>\n",
       "      <td>23.0</td>\n",
       "      <td>1970.0</td>\n",
       "      <td>Hercules is sent to Earth where he finds true ...</td>\n",
       "      <td>Hercules in New York</td>\n",
       "      <td>18236.0</td>\n",
       "      <td>https://www.imdb.com/search/title/?release_dat...</td>\n",
       "    </tr>\n",
       "  </tbody>\n",
       "</table>\n",
       "</div>"
      ],
      "text/plain": [
       "                                              actors  certificate  \\\n",
       "0  [George C. Scott, Karl Malden, Stephen Young, ...          NaN   \n",
       "1             [J.D. Cannon, Terry Carter, Ken Lynch]          NaN   \n",
       "2  [Tony Musante, Suzy Kendall, Enrico Maria Sale...          NaN   \n",
       "3  [Maria Rohm, Marie Liljedahl, Jack Taylor, Chr...          NaN   \n",
       "4  [Arnold Stang, Arnold Schwarzenegger, Deborah ...          NaN   \n",
       "\n",
       "                 director  duration                       genre  imdb_rating  \\\n",
       "0   Franklin J. Schaffner     172.0       Biography, Drama, War          7.9   \n",
       "1           Dennis Weaver     120.0        Action, Crime, Drama          6.9   \n",
       "2           Dario Argento      96.0   Horror, Mystery, Thriller          7.1   \n",
       "3            Jesús Franco      87.0               Drama, Horror          5.3   \n",
       "4  Arthur Allan Seidelman      92.0  Adventure, Comedy, Fantasy          3.3   \n",
       "\n",
       "                                    link  metascore  release_date  \\\n",
       "0  https://www.imdb.com/title/tt0066206/       91.0        1970.0   \n",
       "1  https://www.imdb.com/title/tt0065317/        NaN    19701977.0   \n",
       "2  https://www.imdb.com/title/tt0065143/        NaN        1970.0   \n",
       "3  https://www.imdb.com/title/tt0064494/        NaN        1970.0   \n",
       "4  https://www.imdb.com/title/tt0065832/       23.0        1970.0   \n",
       "\n",
       "                                            synopsis  \\\n",
       "0  The World War II phase of the career of contro...   \n",
       "1  A New Mexico deputy marshal gets assigned to M...   \n",
       "2  An American expatriate in Rome witnesses an at...   \n",
       "3  An innocent girl goes to spend the weekend on ...   \n",
       "4  Hercules is sent to Earth where he finds true ...   \n",
       "\n",
       "                                title     votes  \\\n",
       "0                              Patton  100902.0   \n",
       "1                             McCloud    3274.0   \n",
       "2  L'uccello dalle piume di cristallo   20664.0   \n",
       "3                          De Sade 70    1637.0   \n",
       "4                Hercules in New York   18236.0   \n",
       "\n",
       "                                            page_url  \n",
       "0  https://www.imdb.com/search/title/?release_dat...  \n",
       "1  https://www.imdb.com/search/title/?release_dat...  \n",
       "2  https://www.imdb.com/search/title/?release_dat...  \n",
       "3  https://www.imdb.com/search/title/?release_dat...  \n",
       "4  https://www.imdb.com/search/title/?release_dat...  "
      ]
     },
     "execution_count": 7,
     "metadata": {},
     "output_type": "execute_result"
    }
   ],
   "source": [
    "films.head()"
   ]
  },
  {
   "cell_type": "code",
   "execution_count": 16,
   "metadata": {},
   "outputs": [
    {
     "data": {
      "text/plain": [
       "'Tropic of Cancer'"
      ]
     },
     "execution_count": 16,
     "metadata": {},
     "output_type": "execute_result"
    }
   ],
   "source": [
    "films.title[22]"
   ]
  },
  {
   "cell_type": "code",
   "execution_count": 7,
   "metadata": {},
   "outputs": [
    {
     "name": "stdout",
     "output_type": "stream",
     "text": [
      "<class 'pandas.core.frame.DataFrame'>\n",
      "RangeIndex: 250 entries, 0 to 249\n",
      "Data columns (total 13 columns):\n",
      " #   Column        Non-Null Count  Dtype  \n",
      "---  ------        --------------  -----  \n",
      " 0   actors        250 non-null    object \n",
      " 1   certificate   4 non-null      object \n",
      " 2   director      248 non-null    object \n",
      " 3   duration      201 non-null    float64\n",
      " 4   genre         222 non-null    object \n",
      " 5   imdb_rating   143 non-null    float64\n",
      " 6   link          250 non-null    object \n",
      " 7   metascore     5 non-null      float64\n",
      " 8   release_date  250 non-null    float64\n",
      " 9   synopsis      250 non-null    object \n",
      " 10  title         250 non-null    object \n",
      " 11  votes         143 non-null    float64\n",
      " 12  page_url      250 non-null    object \n",
      "dtypes: float64(5), object(8)\n",
      "memory usage: 25.5+ KB\n"
     ]
    }
   ],
   "source": [
    "films.info()"
   ]
  },
  {
   "cell_type": "code",
   "execution_count": null,
   "metadata": {},
   "outputs": [],
   "source": [
    "films.to_csv(f'/content/drive/MyDrive/Masters AUA/Spring 2022/Machine Learning/Project/imdb_df{release_start}_{release_end}.csv')"
   ]
  }
 ],
 "metadata": {
  "interpreter": {
   "hash": "8eab3496f4cb4681ae9e709d1ea85875b328de724c99e7bf9ad3b2cbdb3292de"
  },
  "kernelspec": {
   "display_name": "Python 3.9.7 ('base')",
   "language": "python",
   "name": "python3"
  },
  "language_info": {
   "codemirror_mode": {
    "name": "ipython",
    "version": 3
   },
   "file_extension": ".py",
   "mimetype": "text/x-python",
   "name": "python",
   "nbconvert_exporter": "python",
   "pygments_lexer": "ipython3",
   "version": "3.8.8"
  },
  "orig_nbformat": 4
 },
 "nbformat": 4,
 "nbformat_minor": 2
}
